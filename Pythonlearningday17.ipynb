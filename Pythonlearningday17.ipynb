{
  "nbformat": 4,
  "nbformat_minor": 0,
  "metadata": {
    "colab": {
      "provenance": []
    },
    "kernelspec": {
      "name": "python3",
      "display_name": "Python 3"
    },
    "language_info": {
      "name": "python"
    }
  },
  "cells": [
    {
      "cell_type": "code",
      "execution_count": 2,
      "metadata": {
        "id": "JRF9KxgCLSQt"
      },
      "outputs": [],
      "source": [
        "# First class function\n",
        "def fun(x):\n",
        "  print(x)"
      ]
    },
    {
      "cell_type": "code",
      "source": [
        "x=fun\n",
        "x(10)"
      ],
      "metadata": {
        "colab": {
          "base_uri": "https://localhost:8080/"
        },
        "id": "jso27UgUSJdt",
        "outputId": "398c0acc-dfab-484b-e928-4834fbaf394c"
      },
      "execution_count": 12,
      "outputs": [
        {
          "output_type": "stream",
          "name": "stdout",
          "text": [
            "10\n"
          ]
        }
      ]
    },
    {
      "cell_type": "code",
      "source": [
        "fun(10)"
      ],
      "metadata": {
        "colab": {
          "base_uri": "https://localhost:8080/"
        },
        "id": "GTXV_rPgSXVG",
        "outputId": "cb572a1e-3cde-4fcf-fc18-659e50326c79"
      },
      "execution_count": 4,
      "outputs": [
        {
          "output_type": "stream",
          "name": "stdout",
          "text": [
            "10\n"
          ]
        }
      ]
    },
    {
      "cell_type": "code",
      "source": [
        "# How to pass another function as a argument to another functions\n",
        "def addNo(num):\n",
        "  print(num+50)\n",
        "\n",
        "print(addNo(20))"
      ],
      "metadata": {
        "colab": {
          "base_uri": "https://localhost:8080/"
        },
        "id": "N8KauRccScL1",
        "outputId": "9fc797c8-5b5e-4550-b0bd-2ca06337aee4"
      },
      "execution_count": 10,
      "outputs": [
        {
          "output_type": "stream",
          "name": "stdout",
          "text": [
            "70\n",
            "None\n"
          ]
        }
      ]
    },
    {
      "cell_type": "code",
      "source": [
        "def addNo(num):\n",
        "  return(num+50)\n",
        "\n",
        "print(addNo(20))"
      ],
      "metadata": {
        "colab": {
          "base_uri": "https://localhost:8080/"
        },
        "id": "YB0XVyLUU4RX",
        "outputId": "674a9e6c-708e-4e87-82ec-805069f2e391"
      },
      "execution_count": 24,
      "outputs": [
        {
          "output_type": "stream",
          "name": "stdout",
          "text": [
            "70\n"
          ]
        }
      ]
    },
    {
      "cell_type": "code",
      "source": [
        "def addNo(num):\n",
        "  print(num+50)\n",
        "\n",
        "def graceNumber(x,y):\n",
        "  print(\"x & y:\",x,y)\n",
        "graceNumber(20,40)"
      ],
      "metadata": {
        "colab": {
          "base_uri": "https://localhost:8080/"
        },
        "id": "RzJ6BLtHSxYD",
        "outputId": "2d00b736-9a60-4e4a-a442-75248e194584"
      },
      "execution_count": 8,
      "outputs": [
        {
          "output_type": "stream",
          "name": "stdout",
          "text": [
            "x & y: 20 40\n"
          ]
        }
      ]
    },
    {
      "cell_type": "code",
      "source": [
        "def addNo(num):\n",
        "  print(num+50)\n",
        "\n",
        "def graceNumber(x,y):\n",
        "  print(\"x & y:\",x,y)\n",
        "graceNumber(20,addNo(40))"
      ],
      "metadata": {
        "colab": {
          "base_uri": "https://localhost:8080/"
        },
        "id": "7jmC4oFaTGAm",
        "outputId": "0d24014a-f1fc-42b2-ec93-bdb6b844738a"
      },
      "execution_count": 11,
      "outputs": [
        {
          "output_type": "stream",
          "name": "stdout",
          "text": [
            "90\n",
            "x & y: 20 None\n"
          ]
        }
      ]
    },
    {
      "cell_type": "code",
      "source": [
        "def addNo(num):\n",
        "  return(num+50)\n",
        "\n",
        "def graceNumber(x,y):\n",
        "  print(\"x & y:\",x,y)\n",
        "graceNumber(20,addNo(40))"
      ],
      "metadata": {
        "colab": {
          "base_uri": "https://localhost:8080/"
        },
        "id": "kh5Qy44MULgY",
        "outputId": "9e629ef8-2052-49d1-825b-9b4b6b80ff71"
      },
      "execution_count": 20,
      "outputs": [
        {
          "output_type": "stream",
          "name": "stdout",
          "text": [
            "x & y: 20 90\n"
          ]
        }
      ]
    },
    {
      "cell_type": "code",
      "source": [
        "def addNo(num):\n",
        "  print(num+50)\n",
        "\n",
        "def graceNumber(x,y):        #x=10, y=addNo\n",
        "  print(\"x & y:\",x,y)\n",
        "graceNumber(20,addNo)"
      ],
      "metadata": {
        "colab": {
          "base_uri": "https://localhost:8080/"
        },
        "id": "_W7tMpKETgaN",
        "outputId": "41085614-c134-450c-d52a-327f63b24fcc"
      },
      "execution_count": 13,
      "outputs": [
        {
          "output_type": "stream",
          "name": "stdout",
          "text": [
            "x & y: 20 <function addNo at 0x7bf531205da0>\n"
          ]
        }
      ]
    },
    {
      "cell_type": "code",
      "source": [
        "def addNo(num):\n",
        "  print(num+50)\n",
        "\n",
        "def graceNumber(x,y):        #x=10, y=addNo\n",
        "  print(\"x & y:\",x,y(15))    #addNo(15) y(15)\n",
        "graceNumber(20,addNo)"
      ],
      "metadata": {
        "colab": {
          "base_uri": "https://localhost:8080/"
        },
        "id": "lQV4Xt6OT2WX",
        "outputId": "3e4ec0f2-b6ef-43fa-e3fa-a4cb3d4b361c"
      },
      "execution_count": 18,
      "outputs": [
        {
          "output_type": "stream",
          "name": "stdout",
          "text": [
            "65\n",
            "x & y: 20 None\n"
          ]
        }
      ]
    },
    {
      "cell_type": "code",
      "source": [
        "def addNo(num):\n",
        "  return(num+50)\n",
        "\n",
        "def graceNumber(x,y):        #x=10, y=addNo\n",
        "  print(\"x & y:\",x+y(15))    #addNo(15) y(15)\n",
        "graceNumber(20,addNo)"
      ],
      "metadata": {
        "colab": {
          "base_uri": "https://localhost:8080/"
        },
        "id": "XVvqTAWtUhnX",
        "outputId": "1b941090-9201-4810-adab-76150d6e34d7"
      },
      "execution_count": 26,
      "outputs": [
        {
          "output_type": "stream",
          "name": "stdout",
          "text": [
            "x & y: 85\n"
          ]
        }
      ]
    },
    {
      "cell_type": "code",
      "source": [
        "# All high order functions are first class function."
      ],
      "metadata": {
        "id": "rd9KSJ07UsKZ"
      },
      "execution_count": 25,
      "outputs": []
    },
    {
      "cell_type": "code",
      "source": [
        "# Lambda function\n",
        "# single line yh one line function\n",
        "# make a code simple\n",
        "# annymous function"
      ],
      "metadata": {
        "id": "aubjF24nVU_D"
      },
      "execution_count": 27,
      "outputs": []
    },
    {
      "cell_type": "code",
      "source": [
        "def func(num):\n",
        "  return num+10"
      ],
      "metadata": {
        "id": "vuD_E2a3VnHe"
      },
      "execution_count": 34,
      "outputs": []
    },
    {
      "cell_type": "code",
      "source": [
        "func(14)"
      ],
      "metadata": {
        "colab": {
          "base_uri": "https://localhost:8080/"
        },
        "id": "sPQGd_9XWAbG",
        "outputId": "e1e999d7-65e5-4368-f237-da52d47dc412"
      },
      "execution_count": 37,
      "outputs": [
        {
          "output_type": "execute_result",
          "data": {
            "text/plain": [
              "24"
            ]
          },
          "metadata": {},
          "execution_count": 37
        }
      ]
    },
    {
      "cell_type": "code",
      "source": [
        "# lambda parameter,par2: expression\n",
        "lambda num: num+5"
      ],
      "metadata": {
        "colab": {
          "base_uri": "https://localhost:8080/"
        },
        "id": "8RHYm8Z8WDsO",
        "outputId": "a59a158b-9c2c-46ce-8452-2bd14485a547"
      },
      "execution_count": 36,
      "outputs": [
        {
          "output_type": "execute_result",
          "data": {
            "text/plain": [
              "<function __main__.<lambda>(num)>"
            ]
          },
          "metadata": {},
          "execution_count": 36
        }
      ]
    },
    {
      "cell_type": "code",
      "source": [
        "x=lambda num: num+5\n",
        "x(5)"
      ],
      "metadata": {
        "colab": {
          "base_uri": "https://localhost:8080/"
        },
        "id": "tWtUwhKgWbpj",
        "outputId": "77f91151-e9d7-4fa5-9509-f811c2f287f0"
      },
      "execution_count": 50,
      "outputs": [
        {
          "output_type": "execute_result",
          "data": {
            "text/plain": [
              "10"
            ]
          },
          "metadata": {},
          "execution_count": 50
        }
      ]
    },
    {
      "cell_type": "code",
      "source": [
        "# func(func)\n",
        "# map, filter, reduce\n",
        "mylist=[10,20,30]\n",
        "out=map(lambda num: num+5,mylist)\n",
        "next(out)"
      ],
      "metadata": {
        "colab": {
          "base_uri": "https://localhost:8080/"
        },
        "id": "0VllUHSTW11B",
        "outputId": "89947c0f-d165-419c-88e7-2d58ce0d3902"
      },
      "execution_count": 52,
      "outputs": [
        {
          "output_type": "execute_result",
          "data": {
            "text/plain": [
              "15"
            ]
          },
          "metadata": {},
          "execution_count": 52
        }
      ]
    },
    {
      "cell_type": "code",
      "source": [
        "next(out)"
      ],
      "metadata": {
        "colab": {
          "base_uri": "https://localhost:8080/"
        },
        "id": "d86ZLIKUaNRA",
        "outputId": "3b9f11b3-74b8-4fa7-982a-b3587fa19795"
      },
      "execution_count": 53,
      "outputs": [
        {
          "output_type": "execute_result",
          "data": {
            "text/plain": [
              "25"
            ]
          },
          "metadata": {},
          "execution_count": 53
        }
      ]
    },
    {
      "cell_type": "code",
      "source": [
        "next(out)"
      ],
      "metadata": {
        "colab": {
          "base_uri": "https://localhost:8080/"
        },
        "id": "rfutzbHkaPgo",
        "outputId": "febfb25e-1429-4cde-d64d-788ec834f6b2"
      },
      "execution_count": 54,
      "outputs": [
        {
          "output_type": "execute_result",
          "data": {
            "text/plain": [
              "35"
            ]
          },
          "metadata": {},
          "execution_count": 54
        }
      ]
    },
    {
      "cell_type": "code",
      "source": [
        "mylist=[10,20,30]\n",
        "out=map(lambda num: num+5,mylist)\n",
        "for i in out:\n",
        "  print(i)"
      ],
      "metadata": {
        "colab": {
          "base_uri": "https://localhost:8080/"
        },
        "id": "AvAloKCiZZOQ",
        "outputId": "be28c850-7815-48de-ba00-80365695484d"
      },
      "execution_count": 57,
      "outputs": [
        {
          "output_type": "stream",
          "name": "stdout",
          "text": [
            "15\n",
            "25\n",
            "35\n"
          ]
        }
      ]
    },
    {
      "cell_type": "code",
      "source": [
        "mylist=[10,20,30]\n",
        "list(map(lambda num: num+5,mylist))"
      ],
      "metadata": {
        "colab": {
          "base_uri": "https://localhost:8080/"
        },
        "id": "IEf7CaGCaXN1",
        "outputId": "9f8a0e54-4638-44d8-8a32-3c717e01da68"
      },
      "execution_count": 77,
      "outputs": [
        {
          "output_type": "execute_result",
          "data": {
            "text/plain": [
              "[15, 25, 35]"
            ]
          },
          "metadata": {},
          "execution_count": 77
        }
      ]
    },
    {
      "cell_type": "code",
      "source": [
        "#even or odd\n",
        "mylist = [10, 20, 25, 30, 35]\n",
        "list(map(lambda x: x%2==0, mylist))"
      ],
      "metadata": {
        "colab": {
          "base_uri": "https://localhost:8080/"
        },
        "id": "O179DR7obAhF",
        "outputId": "118523c2-b3ae-4083-c21a-4b2ef10ab17a"
      },
      "execution_count": 64,
      "outputs": [
        {
          "output_type": "execute_result",
          "data": {
            "text/plain": [
              "[True, True, False, True, False]"
            ]
          },
          "metadata": {},
          "execution_count": 64
        }
      ]
    },
    {
      "cell_type": "code",
      "source": [
        "mylist = [10, 20, 25, 30, 35]\n",
        "list(filter(lambda x: x%2==0, mylist))"
      ],
      "metadata": {
        "colab": {
          "base_uri": "https://localhost:8080/"
        },
        "id": "gG6RKWJfcN9t",
        "outputId": "b13e8cc2-770f-4ab1-da35-57610291fee9"
      },
      "execution_count": 83,
      "outputs": [
        {
          "output_type": "execute_result",
          "data": {
            "text/plain": [
              "[10, 20, 30]"
            ]
          },
          "metadata": {},
          "execution_count": 83
        }
      ]
    },
    {
      "cell_type": "code",
      "source": [],
      "metadata": {
        "id": "nYdERapnjWoi"
      },
      "execution_count": null,
      "outputs": []
    }
  ]
}